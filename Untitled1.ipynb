{
 "cells": [
  {
   "cell_type": "code",
   "execution_count": 1,
   "id": "08050104",
   "metadata": {},
   "outputs": [],
   "source": [
    "from sklearn.datasets import fetch_kddcup99\n",
    "from sklearn.cluster import kmeans_plusplus\n",
    "from sklearn.cluster import KMeans\n",
    "from sklearn.preprocessing import StandardScaler\n",
    "from scipy.spatial.distance import cdist \n",
    "\n",
    "\n",
    "import wkpp as wkpp \n",
    "import numpy as np\n",
    "\n",
    "import random\n",
    "import warnings\n",
    "warnings.filterwarnings(\"ignore\")"
   ]
  },
  {
   "cell_type": "code",
   "execution_count": 2,
   "id": "f5b5222b",
   "metadata": {},
   "outputs": [],
   "source": [
    "import cv2\n",
    "imag = cv2.imread('fruits.jpg')\n",
    "imag.shape\n",
    "m = imag.shape[0]\n",
    "n = imag.shape[1]\n",
    "weight = np.ones((m,n))*1/(m*n)\n",
    "k=17\n"
   ]
  },
  {
   "cell_type": "code",
   "execution_count": 3,
   "id": "ea4f3507",
   "metadata": {},
   "outputs": [],
   "source": [
    "def d(x,B):\n",
    "    min_dist = 1e+20\n",
    "    B_close = -1\n",
    "    for i in range(len(B)):\n",
    "        dist = dist = np.linalg.norm(x-B[i])\n",
    "        if(dist<min_dist):\n",
    "            min_dist = dist\n",
    "            B_close = i\n",
    "    return dist,B_close\n"
   ]
  },
  {
   "cell_type": "code",
   "execution_count": 4,
   "id": "b9bb0e27",
   "metadata": {},
   "outputs": [],
   "source": [
    "def D2(data, k):\n",
    "    flattened_data = data.reshape(-1, data.shape[-1])\n",
    "    centroids = []\n",
    "    centroids.append(flattened_data[np.random.randint(flattened_data.shape[0])])\n",
    "    for i in range(1, k):\n",
    "        distances = cdist(flattened_data, np.array(centroids))\n",
    "        min_distances = np.min(distances, axis=1)\n",
    "        probabilities = min_distances ** 2 / np.sum(min_distances ** 2)\n",
    "        new_centroid_index = np.random.choice(flattened_data.shape[0], p=probabilities)\n",
    "        centroids.append(flattened_data[new_centroid_index])\n",
    "\n",
    "    return np.array(centroids)\n",
    "centroids = D2(imag, k)\n"
   ]
  },
  {
   "cell_type": "code",
   "execution_count": 5,
   "id": "4b33c65c",
   "metadata": {},
   "outputs": [],
   "source": [
    "def Sampling(data, k, centers, Sample_size):\n",
    "    m = data.shape[0]\n",
    "    n = data.shape[1]\n",
    "    alpha = 16 * (np.log(k) + 2)\n",
    "    cluster = np.zeros((m, n))\n",
    "    d_sum = 0\n",
    "    d_f = np.zeros((m, n, 2))\n",
    "    B_i = np.zeros((len(centers), 2))\n",
    "\n",
    "    for i in range(m):\n",
    "        for j in range(n):\n",
    "            d_f[i][j] = d(data[i][j], centers)\n",
    "            cluster[i][j] = d_f[i][j][1]\n",
    "            d_sum += d_f[i][j][0]\n",
    "            B_i[int(d_f[i][j][1])][1] += 1\n",
    "            B_i[int(d_f[i][j][1])][0] += d_f[i][j][0]\n",
    "            \n",
    "    c_phi = d_sum / (m * n)\n",
    "    S = np.zeros((m, n))\n",
    "    pr = np.zeros((m, n))\n",
    "    sum_S = 0\n",
    "\n",
    "    for i in range(m):\n",
    "        for j in range(n):\n",
    "            S[i][j] = alpha * d_f[i][j][0] / c_phi + 2 * alpha * B_i[int(cluster[i][j])][0] / (\n",
    "                    B_i[int(cluster[i][j])][1] * c_phi) + 4 * m * n / B_i[int(cluster[i][j])][1]\n",
    "            sum_S += S[i][j]\n",
    "    \n",
    "    for i in range(m):\n",
    "        for j in range(n):\n",
    "            pr[i][j] = S[i][j] / sum_S\n",
    "\n",
    "    index_set = np.ones((m * n, 2))\n",
    "    for i in range(m * n):\n",
    "        index_set[i, 0] = i\n",
    "        index_set[i, 1] = pr[i // n][i % n]\n",
    "        \n",
    "    C_index = np.random.choice(index_set[:, 0], p=index_set[:, 1], size=int(Sample_size) + 1)\n",
    "    coreset = np.zeros((int(Sample_size) + 1, 3))\n",
    "    weight = np.zeros((int(Sample_size) + 1))\n",
    "\n",
    "    for i in range(int(Sample_size + 1)):\n",
    "        coreset[i] = np.array(data[int(C_index[i] // n)][int(C_index[i] % n)])\n",
    "        weight[i] = 1 / (Sample_size * pr[int(C_index[i] // n)][int(C_index[i] % n)] + 1e-8)\n",
    "        \n",
    "    return coreset, weight"
   ]
  },
  {
   "cell_type": "code",
   "execution_count": 6,
   "id": "f8180697",
   "metadata": {},
   "outputs": [],
   "source": [
    "coreset, weight = Sampling(imag,k,centroids,100)"
   ]
  },
  {
   "cell_type": "code",
   "execution_count": 7,
   "id": "ecf97d6a",
   "metadata": {},
   "outputs": [],
   "source": [
    "from PIL import Image\n",
    "imag = np.copy(imag)\n",
    "kmeans = KMeans(n_clusters=k,  init='k-means++', max_iter=10).fit(coreset,sample_weight=weight)\n",
    "centers = kmeans.cluster_centers_\n",
    "centers = np.array(centers)\n",
    "for i in range(m):\n",
    "    for j in range(n):\n",
    "        d_f = d(imag[i][j],centers)\n",
    "        imag[i][j] = centers[int(d_f[1])]\n",
    "        \n",
    "\n",
    "data12 =  Image.fromarray((imag * 255).astype(np.uint8))\n",
    "data12.save(\"Segmented_Orignal.png\")\n",
    "\n"
   ]
  },
  {
   "cell_type": "code",
   "execution_count": 8,
   "id": "4d8c603b",
   "metadata": {},
   "outputs": [],
   "source": [
    "for i in range (coreset.shape[0]):\n",
    "    d_f=d(coreset[i],centers)\n",
    "    coreset[i]=centers[int(d_f[1])]\n",
    "    \n",
    "data12 =  Image.fromarray((imag * 255).astype(np.uint8))\n",
    "data12.save(\"Segmented_Coreset.png\")  "
   ]
  }
 ],
 "metadata": {
  "kernelspec": {
   "display_name": "Python 3 (ipykernel)",
   "language": "python",
   "name": "python3"
  },
  "language_info": {
   "codemirror_mode": {
    "name": "ipython",
    "version": 3
   },
   "file_extension": ".py",
   "mimetype": "text/x-python",
   "name": "python",
   "nbconvert_exporter": "python",
   "pygments_lexer": "ipython3",
   "version": "3.11.5"
  }
 },
 "nbformat": 4,
 "nbformat_minor": 5
}
